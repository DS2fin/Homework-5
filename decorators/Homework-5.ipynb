{
 "cells": [
  {
   "cell_type": "markdown",
   "id": "72ad0deb-43d5-4822-a7b3-e324c866f554",
   "metadata": {
    "id": "QY4qPJPpgyIS",
    "tags": []
   },
   "source": [
    "# Домашнее задание - 5. Декораторы"
   ]
  },
  {
   "cell_type": "markdown",
   "id": "5b431b6d-691d-4324-b2e5-b44f186a2738",
   "metadata": {
    "id": "Chacc6YchldZ"
   },
   "source": [
    "## Импорт библиотек, установка констант"
   ]
  },
  {
   "cell_type": "code",
   "execution_count": 2,
   "id": "5a708509-b121-43ca-b596-46af5832f725",
   "metadata": {
    "id": "w8iKrWvwhrFd",
    "tags": []
   },
   "outputs": [],
   "source": [
    "import requests\n",
    "import time\n",
    "import re\n",
    "\n",
    "from random import randint"
   ]
  },
  {
   "cell_type": "code",
   "execution_count": 3,
   "id": "c1264164-308a-49fb-82ae-9afe5f13d75e",
   "metadata": {
    "id": "-LRkS0fSi8Np",
    "tags": []
   },
   "outputs": [],
   "source": [
    "BOOK_PATH = 'https://www.gutenberg.org/files/2638/2638-0.txt'"
   ]
  },
  {
   "cell_type": "markdown",
   "id": "1d9ceda0-3984-4768-a544-f467012d0df1",
   "metadata": {
    "id": "kARfL8ifg4MH"
   },
   "source": [
    "## Задание 1\n",
    "Реализуйте декоратор benchmark(func), выводящий время, которое заняло выполнение декорируемой функции"
   ]
  },
  {
   "cell_type": "code",
   "execution_count": 4,
   "id": "02e5baa5-8e29-4d4e-a5a2-acf6d8f8624e",
   "metadata": {
    "id": "hNHNWPhngrUl",
    "tags": []
   },
   "outputs": [],
   "source": [
    "def benchmark(func):\n",
    "    \"\"\"\n",
    "    Декоратор, выводящий время, которое заняло выполнение декорируемой функции\n",
    "    \"\"\"\n",
    "\n",
    "    def wrapper(*args, **kwargs):\n",
    "        start_time = time.time()  # Capture the start time\n",
    "        result = func(*args, **kwargs)  # Execute the decorated function and capture its result\n",
    "        end_time = time.time()  # Capture the end time\n",
    "        duration = end_time - start_time  # Calculate the duration\n",
    "        print(f\"{func.__name__} took {duration:.4f} seconds to execute.\")\n",
    "        return result  # Return the result of the decorated function\n",
    "    return wrapper"
   ]
  },
  {
   "cell_type": "code",
   "execution_count": 5,
   "id": "db6a0fc2-fd80-4b4d-bf0b-af54d1397ec8",
   "metadata": {
    "tags": []
   },
   "outputs": [
    {
     "name": "stdout",
     "output_type": "stream",
     "text": [
      "Downloaded 1427675 bytes.\n",
      "download_and_process_book took 2.2719 seconds to execute.\n"
     ]
    }
   ],
   "source": [
    "import requests\n",
    "\n",
    "@benchmark\n",
    "def download_and_process_book(url):\n",
    "    response = requests.get(url)\n",
    "    # Here, you would process the book content in some way\n",
    "    print(f\"Downloaded {len(response.content)} bytes.\")\n",
    "\n",
    "# Now, calling the function will automatically print the execution time.\n",
    "download_and_process_book(BOOK_PATH)\n"
   ]
  },
  {
   "cell_type": "markdown",
   "id": "55a83b56-d445-4e3f-bb52-649247d38f5e",
   "metadata": {
    "id": "tGlbUKjihL5n"
   },
   "source": [
    "## Задание 2\n",
    "Реализуйте декоратор logging(func), который выводит параметры с которыми была вызвана функция"
   ]
  },
  {
   "cell_type": "code",
   "execution_count": 6,
   "id": "2c5e6c43-13ab-4dc8-8912-4eb40581cb40",
   "metadata": {
    "id": "wugOZDLqhNe-",
    "tags": []
   },
   "outputs": [],
   "source": [
    "def logging(func):\n",
    "    \"\"\"\n",
    "    Декоратор, который выводит параметры, с которыми была вызвана функция.\n",
    "    \"\"\"\n",
    "    def wrapper(*args, **kwargs):\n",
    "        args_repr = [repr(a) for a in args]  # Создаем список представлений всех позиционных аргументов\n",
    "        kwargs_repr = [f\"{k}={v!r}\" for k, v in kwargs.items()]  # Создаем список строковых представлений всех именованных аргументов\n",
    "        signature = \", \".join(args_repr + kwargs_repr)  # Собираем сигнатуру из аргументов\n",
    "        print(f\"Вызов функции {func.__name__} с аргументами ({signature})\")  # Выводим информацию о вызове функции\n",
    "        result = func(*args, **kwargs)  # Вызываем саму функцию\n",
    "        return result  # Возвращаем результат выполнения функции\n",
    "    return wrapper"
   ]
  },
  {
   "cell_type": "code",
   "execution_count": 7,
   "id": "27dc6852-e41d-4145-82b4-88924ee0674f",
   "metadata": {
    "tags": []
   },
   "outputs": [
    {
     "name": "stdout",
     "output_type": "stream",
     "text": [
      "Вызов функции download_and_process_book с аргументами ('https://www.gutenberg.org/files/2638/2638-0.txt')\n",
      "Загружено 1427675 байт.\n"
     ]
    }
   ],
   "source": [
    "@logging\n",
    "def download_and_process_book(url):\n",
    "    response = requests.get(url)\n",
    "    print(f\"Загружено {len(response.content)} байт.\")\n",
    "\n",
    "# Теперь при вызове функции будет выводиться информация о параметрах вызова.\n",
    "download_and_process_book(BOOK_PATH)"
   ]
  },
  {
   "cell_type": "markdown",
   "id": "43aee84d-d29d-4432-af66-da650a234e3b",
   "metadata": {
    "id": "Sq1tv5fshTfv"
   },
   "source": [
    "## Задание 3\n",
    "Реализуйте декоратор counter(func), считающий и выводящий количество вызовов декорируемой функции"
   ]
  },
  {
   "cell_type": "code",
   "execution_count": 8,
   "id": "bf80d921-19da-4938-add0-087f20047d5b",
   "metadata": {
    "id": "9nyvuxXkhVeb",
    "tags": []
   },
   "outputs": [],
   "source": [
    "def counter(func):\n",
    "    \"\"\"\n",
    "    Декоратор, считающий и выводящий количество вызовов декорируемой функции.\n",
    "    \"\"\"\n",
    "    # Инициализация счетчика вызовов функции\n",
    "    func.call_count = 0\n",
    "\n",
    "    def wrapper(*args, **kwargs):\n",
    "        # Инкрементируем счетчик при каждом вызове функции\n",
    "        func.call_count += 1\n",
    "        print(f\"Функция {func.__name__} была вызвана {func.call_count} раз(а)\")\n",
    "        # Вызываем саму функцию\n",
    "        return func(*args, **kwargs)\n",
    "\n",
    "    return wrapper"
   ]
  },
  {
   "cell_type": "code",
   "execution_count": 9,
   "id": "98ab382a-e751-4acd-814e-51ead7329d44",
   "metadata": {
    "tags": []
   },
   "outputs": [
    {
     "name": "stdout",
     "output_type": "stream",
     "text": [
      "Функция download_and_process_book была вызвана 1 раз(а)\n",
      "Загружено 1427675 байт.\n",
      "Функция download_and_process_book была вызвана 2 раз(а)\n",
      "Загружено 1427675 байт.\n"
     ]
    }
   ],
   "source": [
    "@counter\n",
    "def download_and_process_book(url):\n",
    "    response = requests.get(url)\n",
    "    print(f\"Загружено {len(response.content)} байт.\")\n",
    "\n",
    "# Вызываем функцию несколько раз, чтобы проверить, как работает счетчик вызовов\n",
    "download_and_process_book(BOOK_PATH)\n",
    "download_and_process_book(BOOK_PATH)"
   ]
  },
  {
   "cell_type": "markdown",
   "id": "e0507d4f-ed1e-4037-ab1a-98c92ef8b4e8",
   "metadata": {
    "id": "uHn8Adfshz5q"
   },
   "source": [
    "## Задание 4\n",
    "Реализуйте декоратор memo(func), запоминающий результаты исполнения функции func, чьи аргументы *args должны быть хешируемыми. Сравните время выполнения рекурсивной реализации расчета чисел Фибоначчи без декоратора и с ним\n"
   ]
  },
  {
   "cell_type": "code",
   "execution_count": 11,
   "id": "f7307934-a51e-4be8-8127-1d5dfebdbe7d",
   "metadata": {
    "id": "R7uu6WtGifNX",
    "tags": []
   },
   "outputs": [
    {
     "name": "stdout",
     "output_type": "stream",
     "text": [
      "832040\n",
      "Fibonacci without memoization took 0.2251 seconds.\n",
      "832040\n",
      "Fibonacci with memoization took 0.0000 seconds.\n"
     ]
    }
   ],
   "source": [
    "def memo(func):\n",
    "    \"\"\"\n",
    "    Декоратор, запоминающий результаты исполнения функции func, чьи аргументы *args должны быть хешируемыми.\n",
    "    \"\"\"\n",
    "    cache = {}  # Словарь для хранения результатов вызова функции\n",
    "\n",
    "    def wrapper(*args):\n",
    "        if args in cache:\n",
    "            return cache[args]  # Возвращаем результат из кэша, если он там есть\n",
    "        result = func(*args)  # Выполняем функцию и сохраняем результат\n",
    "        cache[args] = result  # Сохраняем результат выполнения функции в кэше\n",
    "        return result\n",
    "\n",
    "    wrapper.cache = cache\n",
    "    return wrapper\n",
    "\n",
    "# Рекурсивная функция для вычисления чисел Фибоначчи\n",
    "def fib(n):\n",
    "    if n <= 1:\n",
    "        return n\n",
    "    else:\n",
    "        return fib(n-1) + fib(n-2)\n",
    "\n",
    "# Декорированная версия функции fib\n",
    "@memo\n",
    "def fib_memo(n):\n",
    "    if n <= 1:\n",
    "        return n\n",
    "    else:\n",
    "        return fib_memo(n-1) + fib_memo(n-2)\n",
    "\n",
    "# Измеряем время выполнения обеих функций\n",
    "def benchmark_fib(n):\n",
    "    start_time = time.time()\n",
    "    print(fib(n))\n",
    "    print(f\"Fibonacci without memoization took {time.time() - start_time:.4f} seconds.\")\n",
    "\n",
    "    start_time = time.time()\n",
    "    print(fib_memo(n))\n",
    "    print(f\"Fibonacci with memoization took {time.time() - start_time:.4f} seconds.\")\n",
    "\n",
    "benchmark_fib(30)\n"
   ]
  },
  {
   "cell_type": "markdown",
   "id": "a29d6cef-54bd-4ff5-b97d-c763e9cdc25d",
   "metadata": {
    "id": "Zn5UQCa_izxo"
   },
   "source": [
    "## Тестирование"
   ]
  },
  {
   "cell_type": "code",
   "execution_count": 12,
   "id": "6e7d1806-74e4-47fc-a5d4-527f3cec84d9",
   "metadata": {
    "id": "CHCJ64I8i2QB",
    "tags": []
   },
   "outputs": [
    {
     "name": "stdout",
     "output_type": "stream",
     "text": [
      "Функция wrapper была вызвана 1 раз(а)\n",
      "Вызов функции wrapper с аргументами ('whole')\n",
      "word_count took 1.9438 seconds to execute.\n",
      "Cлово whole встречается 176 раз\n"
     ]
    }
   ],
   "source": [
    "@counter\n",
    "@logging\n",
    "@benchmark\n",
    "def word_count(word, url=BOOK_PATH):\n",
    "    \"\"\"\n",
    "    Функция для посчета указанного слова на html-странице\n",
    "    \"\"\"\n",
    "\n",
    "    # отправляем запрос в библиотеку Gutenberg и забираем текст\n",
    "    raw = requests.get(url).text\n",
    "\n",
    "    # заменяем в тексте все небуквенные символы на пробелы\n",
    "    processed_book = re.sub('[\\W]+' , ' ', raw).lower()\n",
    "\n",
    "    # считаем\n",
    "    cnt = len(re.findall(word.lower(), processed_book))\n",
    "\n",
    "    return f\"Cлово {word} встречается {cnt} раз\"\n",
    "\n",
    "print(word_count('whole'))"
   ]
  }
 ],
 "metadata": {
  "kernelspec": {
   "display_name": "Python 3 (ipykernel)",
   "language": "python",
   "name": "python3"
  },
  "language_info": {
   "codemirror_mode": {
    "name": "ipython",
    "version": 3
   },
   "file_extension": ".py",
   "mimetype": "text/x-python",
   "name": "python",
   "nbconvert_exporter": "python",
   "pygments_lexer": "ipython3",
   "version": "3.11.5"
  }
 },
 "nbformat": 4,
 "nbformat_minor": 5
}
